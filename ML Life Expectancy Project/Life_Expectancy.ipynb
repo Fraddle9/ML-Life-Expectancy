{
 "cells": [
  {
   "cell_type": "code",
   "execution_count": 1,
   "id": "3dbbe361",
   "metadata": {},
   "outputs": [],
   "source": [
    "import numpy as np\n",
    "import pandas as pd\n",
    "import matplotlib.pyplot as plt\n",
    "\n",
    "dataset = pd.read_csv('Life_Expectancy_Data.csv') #library importing and getting dataset"
   ]
  },
  {
   "cell_type": "code",
   "execution_count": 2,
   "id": "4e6afc83",
   "metadata": {},
   "outputs": [
    {
     "data": {
      "text/plain": [
       "Index(['Country', 'Year', 'Status', 'Life_expectancy', 'Adult Mortality',\n",
       "       'infant deaths', 'Alcohol', 'percentage_expenditure', 'Hepatitis B',\n",
       "       'Measles ', ' BMI ', 'under-five deaths ', 'Polio', 'Total expenditure',\n",
       "       'Diphtheria ', ' HIV/AIDS', 'GDP', 'Population',\n",
       "       ' thinness  1-19 years', ' thinness 5-9 years',\n",
       "       'Income_composition_of_resources', 'Schooling'],\n",
       "      dtype='object')"
      ]
     },
     "execution_count": 2,
     "metadata": {},
     "output_type": "execute_result"
    }
   ],
   "source": [
    "dataset.columns #printing dataset's columns"
   ]
  },
  {
   "cell_type": "code",
   "execution_count": 3,
   "id": "9af9605d",
   "metadata": {},
   "outputs": [],
   "source": [
    "dataset = dataset[['Life_expectancy','Alcohol','percentage_expenditure',' BMI ','GDP','Income_composition_of_resources']]\n",
    "#extracting important variables from dataset."
   ]
  },
  {
   "cell_type": "code",
   "execution_count": 4,
   "id": "06b35291",
   "metadata": {},
   "outputs": [
    {
     "data": {
      "text/html": [
       "<div>\n",
       "<style scoped>\n",
       "    .dataframe tbody tr th:only-of-type {\n",
       "        vertical-align: middle;\n",
       "    }\n",
       "\n",
       "    .dataframe tbody tr th {\n",
       "        vertical-align: top;\n",
       "    }\n",
       "\n",
       "    .dataframe thead th {\n",
       "        text-align: right;\n",
       "    }\n",
       "</style>\n",
       "<table border=\"1\" class=\"dataframe\">\n",
       "  <thead>\n",
       "    <tr style=\"text-align: right;\">\n",
       "      <th></th>\n",
       "      <th>Life_expectancy</th>\n",
       "      <th>Alcohol</th>\n",
       "      <th>percentage_expenditure</th>\n",
       "      <th>BMI</th>\n",
       "      <th>GDP</th>\n",
       "      <th>Income_composition_of_resources</th>\n",
       "    </tr>\n",
       "  </thead>\n",
       "  <tbody>\n",
       "    <tr>\n",
       "      <th>0</th>\n",
       "      <td>65.0</td>\n",
       "      <td>0.01</td>\n",
       "      <td>71.279624</td>\n",
       "      <td>19.1</td>\n",
       "      <td>584.259210</td>\n",
       "      <td>0.479</td>\n",
       "    </tr>\n",
       "    <tr>\n",
       "      <th>1</th>\n",
       "      <td>59.9</td>\n",
       "      <td>0.01</td>\n",
       "      <td>73.523582</td>\n",
       "      <td>18.6</td>\n",
       "      <td>612.696514</td>\n",
       "      <td>0.476</td>\n",
       "    </tr>\n",
       "    <tr>\n",
       "      <th>2</th>\n",
       "      <td>59.9</td>\n",
       "      <td>0.01</td>\n",
       "      <td>73.219243</td>\n",
       "      <td>18.1</td>\n",
       "      <td>631.744976</td>\n",
       "      <td>0.470</td>\n",
       "    </tr>\n",
       "    <tr>\n",
       "      <th>3</th>\n",
       "      <td>59.5</td>\n",
       "      <td>0.01</td>\n",
       "      <td>78.184215</td>\n",
       "      <td>17.6</td>\n",
       "      <td>669.959000</td>\n",
       "      <td>0.463</td>\n",
       "    </tr>\n",
       "    <tr>\n",
       "      <th>4</th>\n",
       "      <td>59.2</td>\n",
       "      <td>0.01</td>\n",
       "      <td>7.097109</td>\n",
       "      <td>17.2</td>\n",
       "      <td>63.537231</td>\n",
       "      <td>0.454</td>\n",
       "    </tr>\n",
       "    <tr>\n",
       "      <th>...</th>\n",
       "      <td>...</td>\n",
       "      <td>...</td>\n",
       "      <td>...</td>\n",
       "      <td>...</td>\n",
       "      <td>...</td>\n",
       "      <td>...</td>\n",
       "    </tr>\n",
       "    <tr>\n",
       "      <th>2933</th>\n",
       "      <td>44.3</td>\n",
       "      <td>4.36</td>\n",
       "      <td>0.000000</td>\n",
       "      <td>27.1</td>\n",
       "      <td>454.366654</td>\n",
       "      <td>0.407</td>\n",
       "    </tr>\n",
       "    <tr>\n",
       "      <th>2934</th>\n",
       "      <td>44.5</td>\n",
       "      <td>4.06</td>\n",
       "      <td>0.000000</td>\n",
       "      <td>26.7</td>\n",
       "      <td>453.351155</td>\n",
       "      <td>0.418</td>\n",
       "    </tr>\n",
       "    <tr>\n",
       "      <th>2935</th>\n",
       "      <td>44.8</td>\n",
       "      <td>4.43</td>\n",
       "      <td>0.000000</td>\n",
       "      <td>26.3</td>\n",
       "      <td>57.348340</td>\n",
       "      <td>0.427</td>\n",
       "    </tr>\n",
       "    <tr>\n",
       "      <th>2936</th>\n",
       "      <td>45.3</td>\n",
       "      <td>1.72</td>\n",
       "      <td>0.000000</td>\n",
       "      <td>25.9</td>\n",
       "      <td>548.587312</td>\n",
       "      <td>0.427</td>\n",
       "    </tr>\n",
       "    <tr>\n",
       "      <th>2937</th>\n",
       "      <td>46.0</td>\n",
       "      <td>1.68</td>\n",
       "      <td>0.000000</td>\n",
       "      <td>25.5</td>\n",
       "      <td>547.358878</td>\n",
       "      <td>0.434</td>\n",
       "    </tr>\n",
       "  </tbody>\n",
       "</table>\n",
       "<p>2938 rows × 6 columns</p>\n",
       "</div>"
      ],
      "text/plain": [
       "      Life_expectancy  Alcohol  percentage_expenditure   BMI          GDP  \\\n",
       "0                65.0     0.01               71.279624   19.1  584.259210   \n",
       "1                59.9     0.01               73.523582   18.6  612.696514   \n",
       "2                59.9     0.01               73.219243   18.1  631.744976   \n",
       "3                59.5     0.01               78.184215   17.6  669.959000   \n",
       "4                59.2     0.01                7.097109   17.2   63.537231   \n",
       "...               ...      ...                     ...    ...         ...   \n",
       "2933             44.3     4.36                0.000000   27.1  454.366654   \n",
       "2934             44.5     4.06                0.000000   26.7  453.351155   \n",
       "2935             44.8     4.43                0.000000   26.3   57.348340   \n",
       "2936             45.3     1.72                0.000000   25.9  548.587312   \n",
       "2937             46.0     1.68                0.000000   25.5  547.358878   \n",
       "\n",
       "      Income_composition_of_resources  \n",
       "0                               0.479  \n",
       "1                               0.476  \n",
       "2                               0.470  \n",
       "3                               0.463  \n",
       "4                               0.454  \n",
       "...                               ...  \n",
       "2933                            0.407  \n",
       "2934                            0.418  \n",
       "2935                            0.427  \n",
       "2936                            0.427  \n",
       "2937                            0.434  \n",
       "\n",
       "[2938 rows x 6 columns]"
      ]
     },
     "execution_count": 4,
     "metadata": {},
     "output_type": "execute_result"
    }
   ],
   "source": [
    "dataset #printing the dataset"
   ]
  },
  {
   "cell_type": "code",
   "execution_count": 5,
   "id": "2ecbf615",
   "metadata": {},
   "outputs": [],
   "source": [
    "dataset.dropna(subset = [\"Life_expectancy\",\"Alcohol\",\" BMI \",\"percentage_expenditure\",\"GDP\",\"Income_composition_of_resources\"], inplace=True)\n",
    "#Deleting the \"null\" values from dataset."
   ]
  },
  {
   "cell_type": "code",
   "execution_count": 6,
   "id": "2c6faa0e",
   "metadata": {},
   "outputs": [
    {
     "data": {
      "text/plain": [
       "Life_expectancy                    0\n",
       "Alcohol                            0\n",
       "percentage_expenditure             0\n",
       " BMI                               0\n",
       "GDP                                0\n",
       "Income_composition_of_resources    0\n",
       "dtype: int64"
      ]
     },
     "execution_count": 6,
     "metadata": {},
     "output_type": "execute_result"
    }
   ],
   "source": [
    "dataset.isna().sum()"
   ]
  },
  {
   "cell_type": "code",
   "execution_count": 7,
   "id": "0ca5f05b",
   "metadata": {},
   "outputs": [],
   "source": [
    "df=(dataset[['Life_expectancy','Alcohol','percentage_expenditure',' BMI ','GDP','Income_composition_of_resources']] != 0).all(axis=1)\n",
    "#setting all 0 values into df array."
   ]
  },
  {
   "cell_type": "code",
   "execution_count": 8,
   "id": "da5f9c93",
   "metadata": {},
   "outputs": [
    {
     "data": {
      "text/plain": [
       "0        True\n",
       "1        True\n",
       "2        True\n",
       "3        True\n",
       "4        True\n",
       "        ...  \n",
       "2933    False\n",
       "2934    False\n",
       "2935    False\n",
       "2936    False\n",
       "2937    False\n",
       "Length: 2311, dtype: bool"
      ]
     },
     "execution_count": 8,
     "metadata": {},
     "output_type": "execute_result"
    }
   ],
   "source": [
    "df"
   ]
  },
  {
   "cell_type": "code",
   "execution_count": 9,
   "id": "017e639a",
   "metadata": {},
   "outputs": [],
   "source": [
    "dataset = dataset.loc[df] #deleting the df array from dataset so 0 values are deleted."
   ]
  },
  {
   "cell_type": "code",
   "execution_count": 10,
   "id": "07778a6c",
   "metadata": {},
   "outputs": [
    {
     "data": {
      "text/html": [
       "<div>\n",
       "<style scoped>\n",
       "    .dataframe tbody tr th:only-of-type {\n",
       "        vertical-align: middle;\n",
       "    }\n",
       "\n",
       "    .dataframe tbody tr th {\n",
       "        vertical-align: top;\n",
       "    }\n",
       "\n",
       "    .dataframe thead th {\n",
       "        text-align: right;\n",
       "    }\n",
       "</style>\n",
       "<table border=\"1\" class=\"dataframe\">\n",
       "  <thead>\n",
       "    <tr style=\"text-align: right;\">\n",
       "      <th></th>\n",
       "      <th>Life_expectancy</th>\n",
       "      <th>Alcohol</th>\n",
       "      <th>percentage_expenditure</th>\n",
       "      <th>BMI</th>\n",
       "      <th>GDP</th>\n",
       "      <th>Income_composition_of_resources</th>\n",
       "    </tr>\n",
       "  </thead>\n",
       "  <tbody>\n",
       "    <tr>\n",
       "      <th>0</th>\n",
       "      <td>65.0</td>\n",
       "      <td>0.01</td>\n",
       "      <td>71.279624</td>\n",
       "      <td>19.1</td>\n",
       "      <td>584.259210</td>\n",
       "      <td>0.479</td>\n",
       "    </tr>\n",
       "    <tr>\n",
       "      <th>1</th>\n",
       "      <td>59.9</td>\n",
       "      <td>0.01</td>\n",
       "      <td>73.523582</td>\n",
       "      <td>18.6</td>\n",
       "      <td>612.696514</td>\n",
       "      <td>0.476</td>\n",
       "    </tr>\n",
       "    <tr>\n",
       "      <th>2</th>\n",
       "      <td>59.9</td>\n",
       "      <td>0.01</td>\n",
       "      <td>73.219243</td>\n",
       "      <td>18.1</td>\n",
       "      <td>631.744976</td>\n",
       "      <td>0.470</td>\n",
       "    </tr>\n",
       "    <tr>\n",
       "      <th>3</th>\n",
       "      <td>59.5</td>\n",
       "      <td>0.01</td>\n",
       "      <td>78.184215</td>\n",
       "      <td>17.6</td>\n",
       "      <td>669.959000</td>\n",
       "      <td>0.463</td>\n",
       "    </tr>\n",
       "    <tr>\n",
       "      <th>4</th>\n",
       "      <td>59.2</td>\n",
       "      <td>0.01</td>\n",
       "      <td>7.097109</td>\n",
       "      <td>17.2</td>\n",
       "      <td>63.537231</td>\n",
       "      <td>0.454</td>\n",
       "    </tr>\n",
       "    <tr>\n",
       "      <th>...</th>\n",
       "      <td>...</td>\n",
       "      <td>...</td>\n",
       "      <td>...</td>\n",
       "      <td>...</td>\n",
       "      <td>...</td>\n",
       "      <td>...</td>\n",
       "    </tr>\n",
       "    <tr>\n",
       "      <th>2928</th>\n",
       "      <td>50.0</td>\n",
       "      <td>4.64</td>\n",
       "      <td>1.040021</td>\n",
       "      <td>29.0</td>\n",
       "      <td>65.824121</td>\n",
       "      <td>0.419</td>\n",
       "    </tr>\n",
       "    <tr>\n",
       "      <th>2929</th>\n",
       "      <td>48.2</td>\n",
       "      <td>3.56</td>\n",
       "      <td>20.843429</td>\n",
       "      <td>28.6</td>\n",
       "      <td>325.678573</td>\n",
       "      <td>0.421</td>\n",
       "    </tr>\n",
       "    <tr>\n",
       "      <th>2930</th>\n",
       "      <td>46.6</td>\n",
       "      <td>3.88</td>\n",
       "      <td>29.814566</td>\n",
       "      <td>28.2</td>\n",
       "      <td>396.998217</td>\n",
       "      <td>0.414</td>\n",
       "    </tr>\n",
       "    <tr>\n",
       "      <th>2931</th>\n",
       "      <td>45.4</td>\n",
       "      <td>4.57</td>\n",
       "      <td>34.262169</td>\n",
       "      <td>27.9</td>\n",
       "      <td>414.796232</td>\n",
       "      <td>0.408</td>\n",
       "    </tr>\n",
       "    <tr>\n",
       "      <th>2932</th>\n",
       "      <td>44.6</td>\n",
       "      <td>4.14</td>\n",
       "      <td>8.717409</td>\n",
       "      <td>27.5</td>\n",
       "      <td>444.765750</td>\n",
       "      <td>0.406</td>\n",
       "    </tr>\n",
       "  </tbody>\n",
       "</table>\n",
       "<p>2194 rows × 6 columns</p>\n",
       "</div>"
      ],
      "text/plain": [
       "      Life_expectancy  Alcohol  percentage_expenditure   BMI          GDP  \\\n",
       "0                65.0     0.01               71.279624   19.1  584.259210   \n",
       "1                59.9     0.01               73.523582   18.6  612.696514   \n",
       "2                59.9     0.01               73.219243   18.1  631.744976   \n",
       "3                59.5     0.01               78.184215   17.6  669.959000   \n",
       "4                59.2     0.01                7.097109   17.2   63.537231   \n",
       "...               ...      ...                     ...    ...         ...   \n",
       "2928             50.0     4.64                1.040021   29.0   65.824121   \n",
       "2929             48.2     3.56               20.843429   28.6  325.678573   \n",
       "2930             46.6     3.88               29.814566   28.2  396.998217   \n",
       "2931             45.4     4.57               34.262169   27.9  414.796232   \n",
       "2932             44.6     4.14                8.717409   27.5  444.765750   \n",
       "\n",
       "      Income_composition_of_resources  \n",
       "0                               0.479  \n",
       "1                               0.476  \n",
       "2                               0.470  \n",
       "3                               0.463  \n",
       "4                               0.454  \n",
       "...                               ...  \n",
       "2928                            0.419  \n",
       "2929                            0.421  \n",
       "2930                            0.414  \n",
       "2931                            0.408  \n",
       "2932                            0.406  \n",
       "\n",
       "[2194 rows x 6 columns]"
      ]
     },
     "execution_count": 10,
     "metadata": {},
     "output_type": "execute_result"
    }
   ],
   "source": [
    "dataset #printing dataset."
   ]
  },
  {
   "cell_type": "code",
   "execution_count": 11,
   "id": "9f646d87",
   "metadata": {},
   "outputs": [],
   "source": [
    "x = dataset[['Alcohol','percentage_expenditure',' BMI ','GDP','Income_composition_of_resources']] #x values that will predict y.\n",
    "y = dataset.Life_expectancy #y value that will be predicted with x values."
   ]
  },
  {
   "cell_type": "code",
   "execution_count": 12,
   "id": "9638c2f7",
   "metadata": {},
   "outputs": [
    {
     "data": {
      "image/png": "[encoded data removed]",
      "text/plain": [
       "<Figure size 432x288 with 1 Axes>"
      ]
     },
     "metadata": {
      "needs_background": "light"
     },
     "output_type": "display_data"
    },
    {
     "data": {
      "image/png": "[encoded data removed]",
      "text/plain": [
       "<Figure size 432x288 with 1 Axes>"
      ]
     },
     "metadata": {
      "needs_background": "light"
     },
     "output_type": "display_data"
    },
    {
     "data": {
      "image/png": "[encoded data removed]",
      "text/plain": [
       "<Figure size 432x288 with 1 Axes>"
      ]
     },
     "metadata": {
      "needs_background": "light"
     },
     "output_type": "display_data"
    },
    {
     "data": {
      "image/png": "[encoded data removed]",
      "text/plain": [
       "<Figure size 432x288 with 1 Axes>"
      ]
     },
     "metadata": {
      "needs_background": "light"
     },
     "output_type": "display_data"
    },
    {
     "data": {
      "image/png": "[encoded data removed]",
      "text/plain": [
       "<Figure size 432x288 with 1 Axes>"
      ]
     },
     "metadata": {
      "needs_background": "light"
     },
     "output_type": "display_data"
    },
    {
     "data": {
      "image/png": "[encoded data removed]",
      "text/plain": [
       "<Figure size 432x288 with 1 Axes>"
      ]
     },
     "metadata": {
      "needs_background": "light"
     },
     "output_type": "display_data"
    }
   ],
   "source": [
    "import seaborn as sns #importing seaborn library\n",
    "import warnings #importing warnings\n",
    "warnings.filterwarnings('ignore') #ignoring warnings\n",
    "\n",
    "features_number = dataset.columns[dataset.dtypes != \"object\"]\n",
    "for i in features_number:\n",
    "    plt.figure()\n",
    "    sns.distplot(dataset[i]) #show the density of every element graphical."
   ]
  },
  {
   "cell_type": "code",
   "execution_count": 13,
   "id": "df7d3dca",
   "metadata": {},
   "outputs": [],
   "source": [
    "from sklearn.model_selection import train_test_split #importing train_test split.\n",
    "x_train, x_test, y_train, y_test = train_test_split(x, y, test_size = 0.3, random_state = 8, shuffle = False)\n",
    "#defining the train and test values and how it will be executed."
   ]
  },
  {
   "cell_type": "code",
   "execution_count": 14,
   "id": "f216ada1",
   "metadata": {},
   "outputs": [
    {
     "data": {
      "text/plain": [
       "LinearRegression()"
      ]
     },
     "execution_count": 14,
     "metadata": {},
     "output_type": "execute_result"
    }
   ],
   "source": [
    "from sklearn.linear_model import LinearRegression #importing LineerRegression.\n",
    "reg = LinearRegression()\n",
    "reg.fit(x_train, y_train)"
   ]
  },
  {
   "cell_type": "code",
   "execution_count": 15,
   "id": "540fd67b",
   "metadata": {},
   "outputs": [
    {
     "data": {
      "text/plain": [
       "0.8233709106728602"
      ]
     },
     "execution_count": 15,
     "metadata": {},
     "output_type": "execute_result"
    }
   ],
   "source": [
    "reg.score(x_train,y_train) #printing the score of our lineer regression models (train)."
   ]
  },
  {
   "cell_type": "code",
   "execution_count": 16,
   "id": "5103ba4b",
   "metadata": {},
   "outputs": [
    {
     "data": {
      "text/plain": [
       "0.7777619235219634"
      ]
     },
     "execution_count": 16,
     "metadata": {},
     "output_type": "execute_result"
    }
   ],
   "source": [
    "reg.score(x_test,y_test) #printing the score of our lineer regression models (test)."
   ]
  },
  {
   "cell_type": "code",
   "execution_count": 17,
   "id": "30225b47",
   "metadata": {},
   "outputs": [
    {
     "data": {
      "text/plain": [
       "array([-3.73511391e-01,  9.92082237e-04,  1.99061567e-02, -1.44181981e-04,\n",
       "        5.46794440e+01])"
      ]
     },
     "execution_count": 17,
     "metadata": {},
     "output_type": "execute_result"
    }
   ],
   "source": [
    "reg.coef_ #this is coefficients. This means like Alcohol has -3 effect on Life Expectancy."
   ]
  },
  {
   "cell_type": "code",
   "execution_count": 18,
   "id": "3652d7b0",
   "metadata": {},
   "outputs": [
    {
     "data": {
      "text/plain": [
       "34.74131554332306"
      ]
     },
     "execution_count": 18,
     "metadata": {},
     "output_type": "execute_result"
    }
   ],
   "source": [
    "reg.intercept_ #this also called as constant (line)."
   ]
  },
  {
   "cell_type": "code",
   "execution_count": 19,
   "id": "9bc5ba47",
   "metadata": {},
   "outputs": [],
   "source": [
    "predictions = reg.predict(x_train) #setting predictions array to predicted values with x_train."
   ]
  },
  {
   "cell_type": "code",
   "execution_count": 20,
   "id": "086e99ab",
   "metadata": {},
   "outputs": [
    {
     "data": {
      "text/plain": [
       "array([61.3 , 61.12, 60.78, ..., 63.26, 62.82, 62.38])"
      ]
     },
     "execution_count": 20,
     "metadata": {},
     "output_type": "execute_result"
    }
   ],
   "source": [
    "predictions = predictions.round(2)\n",
    "predictions # printing predictions."
   ]
  },
  {
   "cell_type": "code",
   "execution_count": 21,
   "id": "31c842d2",
   "metadata": {},
   "outputs": [
    {
     "data": {
      "text/plain": [
       "16.98931016286645"
      ]
     },
     "execution_count": 21,
     "metadata": {},
     "output_type": "execute_result"
    }
   ],
   "source": [
    "from sklearn.metrics import mean_squared_error #importing MSE.\n",
    "\n",
    "mean_squared_error(predictions,y_train) #calculating and printing MSE"
   ]
  },
  {
   "cell_type": "code",
   "execution_count": 22,
   "id": "459fc558",
   "metadata": {},
   "outputs": [
    {
     "data": {
      "text/plain": [
       "<matplotlib.collections.PathCollection at 0x1702e2dbe50>"
      ]
     },
     "execution_count": 22,
     "metadata": {},
     "output_type": "execute_result"
    },
    {
     "data": {
      "image/png": "[encoded data removed]",
      "text/plain": [
       "<Figure size 432x288 with 1 Axes>"
      ]
     },
     "metadata": {
      "needs_background": "light"
     },
     "output_type": "display_data"
    }
   ],
   "source": [
    "plt.scatter(predictions,y_train,25)#plotting the x and y values."
   ]
  }
 ],
 "metadata": {
  "kernelspec": {
   "display_name": "Python 3 (ipykernel)",
   "language": "python",
   "name": "python3"
  },
  "language_info": {
   "codemirror_mode": {
    "name": "ipython",
    "version": 3
   },
   "file_extension": ".py",
   "mimetype": "text/x-python",
   "name": "python",
   "nbconvert_exporter": "python",
   "pygments_lexer": "ipython3",
   "version": "3.9.7"
  }
 },
 "nbformat": 4,
 "nbformat_minor": 5
}
